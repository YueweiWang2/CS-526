{
 "cells": [
  {
   "cell_type": "code",
   "execution_count": 2,
   "metadata": {},
   "outputs": [
    {
     "name": "stdout",
     "output_type": "stream",
     "text": [
      "Mean Squared Error: 0.14981422631464508\n"
     ]
    },
    {
     "data": {
      "text/html": [
       "<!-- http://127.0.0.1:7001/2599706822480/ -->\n",
       "<iframe src=\"http://127.0.0.1:7001/2599706822480/\" width=100% height=800 frameBorder=\"0\"></iframe>"
      ]
     },
     "metadata": {},
     "output_type": "display_data"
    }
   ],
   "source": [
    "from interpret.glassbox import ExplainableBoostingRegressor\n",
    "from sklearn.model_selection import train_test_split\n",
    "from sklearn.metrics import mean_squared_error\n",
    "import pandas as pd\n",
    "\n",
    "file_path = 'Aggregated_Cleaned_Merged_Dataset_No_FIPS.csv'\n",
    "data = pd.read_csv(file_path)\n",
    "\n",
    "y = data[\"Percent (%) of Labor Force Unemployed in State/Area\"]\n",
    "\n",
    "X = data.drop(columns=[\"Percent (%) of Labor Force Unemployed in State/Area\", \"State\"])\n",
    "\n",
    "X_train, X_test, y_train, y_test = train_test_split(X, y, test_size=0.2, random_state=42)\n",
    "\n",
    "ebm = ExplainableBoostingRegressor(random_state=42)\n",
    "ebm.fit(X_train, y_train)\n",
    "\n",
    "y_pred = ebm.predict(X_test)\n",
    "mse = mean_squared_error(y_test, y_pred)\n",
    "\n",
    "print(f'Mean Squared Error: {mse}')\n",
    "\n",
    "from interpret import show\n",
    "\n",
    "ebm_global = ebm.explain_global()  \n",
    "show(ebm_global)\n"
   ]
  },
  {
   "cell_type": "code",
   "execution_count": 3,
   "metadata": {},
   "outputs": [
    {
     "data": {
      "text/plain": [
       "0.41443742559472113"
      ]
     },
     "execution_count": 3,
     "metadata": {},
     "output_type": "execute_result"
    }
   ],
   "source": [
    "\n",
    "from sklearn.ensemble import GradientBoostingRegressor\n",
    "\n",
    "X_train, X_test, y_train, y_test = train_test_split(X, y, test_size=0.2, random_state=42)\n",
    "\n",
    "gbr = GradientBoostingRegressor(random_state=42)\n",
    "gbr.fit(X_train, y_train)\n",
    "\n",
    "y_pred_gbr = gbr.predict(X_test)\n",
    "mse_gbr = mean_squared_error(y_test, y_pred_gbr)\n",
    "\n",
    "mse_gbr\n"
   ]
  },
  {
   "cell_type": "code",
   "execution_count": 4,
   "metadata": {},
   "outputs": [
    {
     "data": {
      "text/plain": [
       "{'Alabama': 0.0059900789915628,\n",
       " 'Alaska': 0.008536102304853502,\n",
       " 'Arizona': 0.002711920837731934,\n",
       " 'Arkansas': 0.42062828292048293,\n",
       " 'California': 0.03716397485907289,\n",
       " 'Colorado': 0.39119440013169077,\n",
       " 'Connecticut': 0.2716900218461192,\n",
       " 'Delaware': 0.0010594664753839139,\n",
       " 'District of Columbia': 0.6357236540639195,\n",
       " 'Florida': 0.4805907300270907,\n",
       " 'Georgia': 0.0017429975127090552,\n",
       " 'Hawaii': 0.0018994120861776747,\n",
       " 'Idaho': 0.23604807559105018,\n",
       " 'Illinois': 0.02740223176316245,\n",
       " 'Indiana': 0.0039036144380776303,\n",
       " 'Iowa': 0.0035946283903068588,\n",
       " 'Kansas': 0.16518114366816528,\n",
       " 'Kentucky': 0.0014181639426711604,\n",
       " 'Louisiana': 0.0009345149410750983,\n",
       " 'Maine': 0.051375839401800134,\n",
       " 'Maryland': 0.03157617771489984,\n",
       " 'Massachusetts': 0.06929794940270297,\n",
       " 'Michigan': 0.04837062309727997,\n",
       " 'Minnesota': 0.050498560447050804,\n",
       " 'Mississippi': 0.0060487865542154405,\n",
       " 'Missouri': 0.06257110010285552,\n",
       " 'Montana': 0.6397638201813071,\n",
       " 'Nebraska': 0.0026345554630792427,\n",
       " 'Nevada': 1.8148680620639353e-05,\n",
       " 'New Hampshire': 0.018101301018417115,\n",
       " 'New Jersey': 0.01707395635556771,\n",
       " 'New Mexico': 0.8369840296487088,\n",
       " 'New York': 0.0936147558339964,\n",
       " 'North Carolina': 0.0006402580251886337,\n",
       " 'North Dakota': 0.03177933710136617,\n",
       " 'Ohio': 0.0011328159016554336,\n",
       " 'Oklahoma': 0.08567095418472245,\n",
       " 'Oregon': 0.03903464582411837,\n",
       " 'Pennsylvania': 0.0031517378193529504,\n",
       " 'Rhode Island': 0.01771463675202174,\n",
       " 'South Carolina': 0.020854409156288233,\n",
       " 'South Dakota': 0.004916754133007405,\n",
       " 'Tennessee': 0.005899066995516032,\n",
       " 'Texas': 0.3181437794764186,\n",
       " 'Utah': 0.01776018888133991,\n",
       " 'Vermont': 0.30675249831971313,\n",
       " 'Virginia': 0.7659832778964327,\n",
       " 'Washington': 0.0304081036668584,\n",
       " 'West Virginia': 0.0006067143452146113,\n",
       " 'Wisconsin': 0.0042929120525290665,\n",
       " 'Wyoming': 0.13747391854053143}"
      ]
     },
     "execution_count": 4,
     "metadata": {},
     "output_type": "execute_result"
    }
   ],
   "source": [
    "from scipy.stats import shapiro\n",
    "\n",
    "normality_results = {}\n",
    "\n",
    "for state in data['State'].unique():\n",
    "    state_data = data[data['State'] == state][\"Percent (%) of Labor Force Unemployed in State/Area\"]\n",
    "    stat, p_value = shapiro(state_data)\n",
    "    normality_results[state] = p_value\n",
    "\n",
    "\n",
    "normality_results\n"
   ]
  },
  {
   "cell_type": "code",
   "execution_count": 5,
   "metadata": {},
   "outputs": [
    {
     "data": {
      "text/plain": [
       "1.0426483240316596e-114"
      ]
     },
     "execution_count": 5,
     "metadata": {},
     "output_type": "execute_result"
    }
   ],
   "source": [
    "from scipy.stats import kruskal\n",
    "\n",
    "grouped_data = [data[data['State'] == state][\"Percent (%) of Labor Force Unemployed in State/Area\"] for state in data['State'].unique()]\n",
    "\n",
    "stat, p_value_kruskal = kruskal(*grouped_data)\n",
    "\n",
    "p_value_kruskal\n"
   ]
  },
  {
   "cell_type": "code",
   "execution_count": 3,
   "metadata": {},
   "outputs": [
    {
     "name": "stdout",
     "output_type": "stream",
     "text": [
      "                                             OLS Regression Results                                            \n",
      "===============================================================================================================\n",
      "Dep. Variable:     Percent (%) of Labor Force Unemployed in State/Area   R-squared:                       0.056\n",
      "Model:                                                             OLS   Adj. R-squared:                  0.054\n",
      "Method:                                                  Least Squares   F-statistic:                     45.04\n",
      "Date:                                                 Thu, 24 Oct 2024   Prob (F-statistic):           2.83e-28\n",
      "Time:                                                         12:39:05   Log-Likelihood:                -4880.9\n",
      "No. Observations:                                                 2295   AIC:                             9770.\n",
      "Df Residuals:                                                     2291   BIC:                             9793.\n",
      "Df Model:                                                            3                                         \n",
      "Covariance Type:                                             nonrobust                                         \n",
      "======================================================================================\n",
      "                         coef    std err          t      P>|t|      [0.025      0.975]\n",
      "--------------------------------------------------------------------------------------\n",
      "const                  8.1244      0.221     36.756      0.000       7.691       8.558\n",
      "State.Minimum.Wage    -0.3809      0.071     -5.353      0.000      -0.520      -0.241\n",
      "CPI.Average           -0.0122      0.001     -8.956      0.000      -0.015      -0.010\n",
      "interaction            0.0018      0.000      5.493      0.000       0.001       0.002\n",
      "==============================================================================\n",
      "Omnibus:                      297.381   Durbin-Watson:                   1.172\n",
      "Prob(Omnibus):                  0.000   Jarque-Bera (JB):              452.318\n",
      "Skew:                           0.920   Prob(JB):                     6.03e-99\n",
      "Kurtosis:                       4.160   Cond. No.                     5.91e+03\n",
      "==============================================================================\n",
      "\n",
      "Notes:\n",
      "[1] Standard Errors assume that the covariance matrix of the errors is correctly specified.\n",
      "[2] The condition number is large, 5.91e+03. This might indicate that there are\n",
      "strong multicollinearity or other numerical problems.\n"
     ]
    }
   ],
   "source": [
    "import statsmodels.api as sm\n",
    "\n",
    "data['interaction'] = data['State.Minimum.Wage'] * data['CPI.Average']\n",
    "\n",
    "\n",
    "X = data[['State.Minimum.Wage', 'CPI.Average', 'interaction']]\n",
    "X = sm.add_constant(X)  \n",
    "\n",
    "y = data['Percent (%) of Labor Force Unemployed in State/Area']\n",
    "\n",
    "model = sm.OLS(y, X).fit()\n",
    "print(model.summary())\n"
   ]
  },
  {
   "cell_type": "code",
   "execution_count": 4,
   "metadata": {},
   "outputs": [
    {
     "name": "stderr",
     "output_type": "stream",
     "text": [
      "C:\\Users\\wangy\\AppData\\Local\\Temp\\ipykernel_137188\\3962749446.py:4: SettingWithCopyWarning:\n",
      "\n",
      "\n",
      "A value is trying to be set on a copy of a slice from a DataFrame.\n",
      "Try using .loc[row_indexer,col_indexer] = value instead\n",
      "\n",
      "See the caveats in the documentation: https://pandas.pydata.org/pandas-docs/stable/user_guide/indexing.html#returning-a-view-versus-a-copy\n",
      "\n"
     ]
    },
    {
     "data": {
      "text/html": [
       "<div>\n",
       "<style scoped>\n",
       "    .dataframe tbody tr th:only-of-type {\n",
       "        vertical-align: middle;\n",
       "    }\n",
       "\n",
       "    .dataframe tbody tr th {\n",
       "        vertical-align: top;\n",
       "    }\n",
       "\n",
       "    .dataframe thead th {\n",
       "        text-align: right;\n",
       "    }\n",
       "</style>\n",
       "<table border=\"1\" class=\"dataframe\">\n",
       "  <thead>\n",
       "    <tr style=\"text-align: right;\">\n",
       "      <th></th>\n",
       "      <th>Feature</th>\n",
       "      <th>VIF</th>\n",
       "    </tr>\n",
       "  </thead>\n",
       "  <tbody>\n",
       "    <tr>\n",
       "      <th>0</th>\n",
       "      <td>State.Minimum.Wage</td>\n",
       "      <td>32.392522</td>\n",
       "    </tr>\n",
       "    <tr>\n",
       "      <th>1</th>\n",
       "      <td>CPI.Average</td>\n",
       "      <td>6.475110</td>\n",
       "    </tr>\n",
       "    <tr>\n",
       "      <th>2</th>\n",
       "      <td>interaction</td>\n",
       "      <td>22.994033</td>\n",
       "    </tr>\n",
       "  </tbody>\n",
       "</table>\n",
       "</div>"
      ],
      "text/plain": [
       "              Feature        VIF\n",
       "0  State.Minimum.Wage  32.392522\n",
       "1         CPI.Average   6.475110\n",
       "2         interaction  22.994033"
      ]
     },
     "execution_count": 4,
     "metadata": {},
     "output_type": "execute_result"
    }
   ],
   "source": [
    "from statsmodels.stats.outliers_influence import variance_inflation_factor\n",
    "\n",
    "X_vif = data[['State.Minimum.Wage', 'CPI.Average']]\n",
    "X_vif['interaction'] = X_vif['State.Minimum.Wage'] * X_vif['CPI.Average']\n",
    "\n",
    "vif_data = pd.DataFrame()\n",
    "vif_data['Feature'] = X_vif.columns\n",
    "vif_data['VIF'] = [variance_inflation_factor(X_vif.values, i) for i in range(X_vif.shape[1])]\n",
    "\n",
    "vif_data\n"
   ]
  }
 ],
 "metadata": {
  "kernelspec": {
   "display_name": "Python 3",
   "language": "python",
   "name": "python3"
  },
  "language_info": {
   "codemirror_mode": {
    "name": "ipython",
    "version": 3
   },
   "file_extension": ".py",
   "mimetype": "text/x-python",
   "name": "python",
   "nbconvert_exporter": "python",
   "pygments_lexer": "ipython3",
   "version": "3.11.9"
  }
 },
 "nbformat": 4,
 "nbformat_minor": 2
}
