{
 "cells": [
  {
   "cell_type": "code",
   "execution_count": 30,
   "metadata": {},
   "outputs": [],
   "source": [
    "import pandas as pd\n",
    "import statsmodels.formula.api as smf\n",
    "from sklearn.metrics import root_mean_squared_error\n",
    "\n",
    "\n",
    "file_path = 'new_hope.csv'\n",
    "df = pd.read_csv(file_path)\n"
   ]
  },
  {
   "cell_type": "code",
   "execution_count": 31,
   "metadata": {},
   "outputs": [
    {
     "name": "stdout",
     "output_type": "stream",
     "text": [
      "Column names after renaming: Index(['Year', 'State', 'state_minimum_wage_2020_dollars',\n",
      "       'federal_minimum_wage_2020_dollars',\n",
      "       'effective_minimum_wage_2020_dollars', 'cpi_average',\n",
      "       'total_civilian_non_institutional_population',\n",
      "       'total_civilian_labor_force', 'unemployment_rate', 'total_import',\n",
      "       'GDP', 'Real GDP*', 'effective_federal_funds_rate', 'Inflation Rate',\n",
      "       'population', 'violent_total', 'murder', 'rape', 'robbery',\n",
      "       'aggravated_assault', 'property_total', 'burglary', 'larceny_theft',\n",
      "       'vehicle theft'],\n",
      "      dtype='object')\n",
      "                            OLS Regression Results                            \n",
      "==============================================================================\n",
      "Dep. Variable:      unemployment_rate   R-squared:                       0.492\n",
      "Model:                            OLS   Adj. R-squared:                  0.488\n",
      "Method:                 Least Squares   F-statistic:                     112.6\n",
      "Date:                Tue, 19 Nov 2024   Prob (F-statistic):          3.45e-163\n",
      "Time:                        21:15:21   Log-Likelihood:                -2034.1\n",
      "No. Observations:                1173   AIC:                             4090.\n",
      "Df Residuals:                    1162   BIC:                             4146.\n",
      "Df Model:                          10                                         \n",
      "Covariance Type:            nonrobust                                         \n",
      "=======================================================================================================\n",
      "                                          coef    std err          t      P>|t|      [0.025      0.975]\n",
      "-------------------------------------------------------------------------------------------------------\n",
      "Intercept                               5.1316      0.665      7.712      0.000       3.826       6.437\n",
      "effective_minimum_wage_2020_dollars     0.4212      0.065      6.481      0.000       0.294       0.549\n",
      "effective_federal_funds_rate           -0.5283      0.028    -19.188      0.000      -0.582      -0.474\n",
      "cpi_average                            -0.0075      0.002     -3.575      0.000      -0.012      -0.003\n",
      "rape                                    0.0753      0.014      5.460      0.000       0.048       0.102\n",
      "murder                                  0.0736      0.019      3.854      0.000       0.036       0.111\n",
      "robbery                                 0.0805      0.013      6.191      0.000       0.055       0.106\n",
      "violent_total                          -0.0771      0.013     -5.931      0.000      -0.103      -0.052\n",
      "aggravated_assault                      0.0781      0.013      6.006      0.000       0.053       0.104\n",
      "state_minimum_wage_2020_dollars        -0.0770      0.018     -4.281      0.000      -0.112      -0.042\n",
      "did                                     1.3876      0.168      8.262      0.000       1.058       1.717\n",
      "==============================================================================\n",
      "Omnibus:                      112.156   Durbin-Watson:                   1.765\n",
      "Prob(Omnibus):                  0.000   Jarque-Bera (JB):              171.448\n",
      "Skew:                           0.697   Prob(JB):                     5.90e-38\n",
      "Kurtosis:                       4.250   Cond. No.                     1.13e+04\n",
      "==============================================================================\n",
      "\n",
      "Notes:\n",
      "[1] Standard Errors assume that the covariance matrix of the errors is correctly specified.\n",
      "[2] The condition number is large, 1.13e+04. This might indicate that there are\n",
      "strong multicollinearity or other numerical problems.\n"
     ]
    }
   ],
   "source": [
    "\n",
    "df = df.rename(columns={\n",
    "    'State.Minimum.Wage.2020.Dollars': 'state_minimum_wage_2020_dollars',\n",
    "    'Federal.Minimum.Wage.2020.Dollars': 'federal_minimum_wage_2020_dollars',\n",
    "    'Effective.Minimum.Wage.2020.Dollars': 'effective_minimum_wage_2020_dollars',\n",
    "    'CPI.Average': 'cpi_average',\n",
    "    'Total Civilian Non-Institutional Population in State/Area': 'total_civilian_non_institutional_population',\n",
    "    'Total Civilian Labor Force in State/Area': 'total_civilian_labor_force',\n",
    "    'Percent (%) of Labor Force Unemployed in State/Area': 'unemployment_rate',\n",
    "    'Population': 'population',\n",
    "    'Murder': 'murder',\n",
    "    'rape': 'rape',\n",
    "    'Burglary': 'burglary',\n",
    "    'Aggravated assault': 'aggravated_assault',\n",
    "    'property total': 'property_total',\n",
    "    'Larceny theft': 'larceny_theft',\n",
    "    'Robbery': 'robbery',\n",
    "    'Effective Federal Funds Rate': 'effective_federal_funds_rate',\n",
    "    'violent total': 'violent_total'\n",
    "})\n",
    "\n",
    "\n",
    "print(\"Column names after renaming:\", df.columns)\n",
    "\n",
    "df['treatment_min_wage'] = df.apply(lambda row: 1 if row['effective_minimum_wage_2020_dollars'] > row['federal_minimum_wage_2020_dollars'] else 0, axis=1)\n",
    "\n",
    "df['time'] = df['Year'].apply(lambda x: 1 if x >= 2009 else 0)\n",
    "\n",
    "df['did'] = df['treatment_min_wage'] * df['time']\n",
    "\n",
    "outcome_var = 'unemployment_rate'\n",
    "\n",
    "significant_features = [\n",
    "    'effective_minimum_wage_2020_dollars',\n",
    "    'effective_federal_funds_rate',\n",
    "    'cpi_average', \n",
    "    'rape',\n",
    "    'murder', \n",
    "    'robbery',\n",
    "    'violent_total',\n",
    "    'aggravated_assault',\n",
    "    'state_minimum_wage_2020_dollars'\n",
    "]\n",
    "\n",
    "\n",
    "significant_features += ['did']\n",
    "\n",
    "formula = f\"{outcome_var} ~ {' + '.join(significant_features)}\"\n",
    "\n",
    "model = smf.ols(formula, data=df).fit()\n",
    "\n",
    "print(model.summary())"
   ]
  },
  {
   "cell_type": "code",
   "execution_count": 32,
   "metadata": {},
   "outputs": [
    {
     "name": "stdout",
     "output_type": "stream",
     "text": [
      "                                Feature  Coefficient\n",
      "0                             Intercept     5.131623\n",
      "1   effective_minimum_wage_2020_dollars     0.421167\n",
      "2          effective_federal_funds_rate    -0.528291\n",
      "3                           cpi_average    -0.007512\n",
      "4                                  rape     0.075339\n",
      "5                                murder     0.073600\n",
      "6                               robbery     0.080457\n",
      "7                         violent_total    -0.077059\n",
      "8                    aggravated_assault     0.078128\n",
      "9       state_minimum_wage_2020_dollars    -0.076982\n",
      "10                                  did     1.387561\n"
     ]
    }
   ],
   "source": [
    "\n",
    "coefficients = pd.DataFrame({\n",
    "    'Feature': model.params.index,\n",
    "    'Coefficient': model.params.values\n",
    "})\n",
    "\n",
    "print(coefficients)"
   ]
  },
  {
   "cell_type": "code",
   "execution_count": 33,
   "metadata": {},
   "outputs": [
    {
     "name": "stdout",
     "output_type": "stream",
     "text": [
      "Root Mean Squared Error (RMSE): 1.370462679250257\n"
     ]
    }
   ],
   "source": [
    "pred = model.predict()\n",
    "\n",
    "rmse = root_mean_squared_error(df['unemployment_rate'],pred)\n",
    "print(\"Root Mean Squared Error (RMSE):\", rmse)"
   ]
  },
  {
   "cell_type": "markdown",
   "metadata": {},
   "source": [
    "# Instrumental Var"
   ]
  },
  {
   "cell_type": "code",
   "execution_count": 34,
   "metadata": {},
   "outputs": [
    {
     "name": "stdout",
     "output_type": "stream",
     "text": [
      "                          IV-2SLS Estimation Summary                          \n",
      "==============================================================================\n",
      "Dep. Variable:      unemployment_rate   R-squared:                      0.4326\n",
      "Estimator:                    IV-2SLS   Adj. R-squared:                 0.4287\n",
      "No. Observations:                1173   F-statistic:                    831.73\n",
      "Date:                Tue, Nov 19 2024   P-value (F-stat)                0.0000\n",
      "Time:                        21:15:21   Distribution:                  chi2(8)\n",
      "Cov. Estimator:                robust                                         \n",
      "                                                                              \n",
      "                                          Parameter Estimates                                          \n",
      "=======================================================================================================\n",
      "                                     Parameter  Std. Err.     T-stat    P-value    Lower CI    Upper CI\n",
      "-------------------------------------------------------------------------------------------------------\n",
      "Intercept                               6.8901     1.0739     6.4160     0.0000      4.7853      8.9949\n",
      "effective_federal_funds_rate           -0.5991     0.0281    -21.308     0.0000     -0.6542     -0.5440\n",
      "cpi_average                            -0.0037     0.0022    -1.6663     0.0957     -0.0081      0.0007\n",
      "rape                                    0.0618     0.0156     3.9601     0.0001      0.0312      0.0924\n",
      "murder                                  0.0492     0.0204     2.4148     0.0157      0.0093      0.0891\n",
      "robbery                                 0.0666     0.0149     4.4699     0.0000      0.0374      0.0958\n",
      "violent_total                          -0.0627     0.0148    -4.2226     0.0000     -0.0917     -0.0336\n",
      "aggravated_assault                      0.0641     0.0149     4.3117     0.0000      0.0350      0.0933\n",
      "effective_minimum_wage_2020_dollars     0.0662     0.1328     0.4980     0.6185     -0.1942      0.3265\n",
      "=======================================================================================================\n",
      "\n",
      "Endogenous: effective_minimum_wage_2020_dollars\n",
      "Instruments: state_minimum_wage_2020_dollars\n",
      "Robust Covariance (Heteroskedastic)\n",
      "Debiased: False\n"
     ]
    }
   ],
   "source": [
    "from linearmodels.iv import IV2SLS\n",
    "\n",
    "df['treatment_min_wage'] = df.apply(lambda row: 1 if row['effective_minimum_wage_2020_dollars'] > row['federal_minimum_wage_2020_dollars'] else 0, axis=1)\n",
    "\n",
    "df['time'] = df['Year'].apply(lambda x: 1 if x >= 2000 else 0)\n",
    "\n",
    "df['did'] = df['treatment_min_wage'] * df['time']\n",
    "\n",
    "outcome_var = 'unemployment_rate'\n",
    "endogenous_var = 'effective_minimum_wage_2020_dollars'\n",
    "instrument_var = 'state_minimum_wage_2020_dollars'\n",
    "\n",
    "exogenous_vars = [\n",
    "    'effective_federal_funds_rate',\n",
    "    'cpi_average', \n",
    "    'rape',\n",
    "    'murder', \n",
    "    'robbery',\n",
    "    'violent_total',\n",
    "    'aggravated_assault'\n",
    "]\n",
    "\n",
    "iv_formula = f\"{outcome_var} ~ 1 + {' + '.join(exogenous_vars)} + [{endogenous_var} ~ {instrument_var}]\"\n",
    "\n",
    "\n",
    "\n",
    "iv_model = IV2SLS.from_formula(iv_formula, data=df).fit()\n",
    "\n",
    "print(iv_model.summary)"
   ]
  },
  {
   "cell_type": "code",
   "execution_count": 35,
   "metadata": {},
   "outputs": [
    {
     "name": "stdout",
     "output_type": "stream",
     "text": [
      "                               Feature  Coefficient\n",
      "0                            Intercept     6.890094\n",
      "1         effective_federal_funds_rate    -0.599103\n",
      "2                          cpi_average    -0.003719\n",
      "3                                 rape     0.061835\n",
      "4                               murder     0.049187\n",
      "5                              robbery     0.066566\n",
      "6                        violent_total    -0.062659\n",
      "7                   aggravated_assault     0.064133\n",
      "8  effective_minimum_wage_2020_dollars     0.066160\n"
     ]
    }
   ],
   "source": [
    "\n",
    "coefficients = pd.DataFrame({\n",
    "    'Feature': iv_model.params.index,\n",
    "    'Coefficient': iv_model.params.values\n",
    "})\n",
    "\n",
    "print(coefficients)"
   ]
  },
  {
   "cell_type": "code",
   "execution_count": 36,
   "metadata": {},
   "outputs": [],
   "source": [
    "pred = iv_model.predict().fitted_values"
   ]
  },
  {
   "cell_type": "code",
   "execution_count": 37,
   "metadata": {},
   "outputs": [
    {
     "name": "stdout",
     "output_type": "stream",
     "text": [
      "Root Mean Squared Error (RMSE): 1.4484229644433066\n"
     ]
    }
   ],
   "source": [
    "pred = iv_model.predict().fitted_values\n",
    "\n",
    "rmse = root_mean_squared_error(df['unemployment_rate'],pred)\n",
    "print(\"Root Mean Squared Error (RMSE):\", rmse)"
   ]
  }
 ],
 "metadata": {
  "kernelspec": {
   "display_name": "Python 3",
   "language": "python",
   "name": "python3"
  },
  "language_info": {
   "codemirror_mode": {
    "name": "ipython",
    "version": 3
   },
   "file_extension": ".py",
   "mimetype": "text/x-python",
   "name": "python",
   "nbconvert_exporter": "python",
   "pygments_lexer": "ipython3",
   "version": "3.11.9"
  }
 },
 "nbformat": 4,
 "nbformat_minor": 2
}
